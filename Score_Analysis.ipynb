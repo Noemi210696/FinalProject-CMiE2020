{
 "cells": [
  {
   "cell_type": "code",
   "execution_count": 87,
   "metadata": {},
   "outputs": [],
   "source": [
    "from music21 import *"
   ]
  },
  {
   "cell_type": "code",
   "execution_count": 88,
   "metadata": {},
   "outputs": [],
   "source": [
    "d = converter.parse(\"Balkan_Dance.musicxml\")"
   ]
  },
  {
   "cell_type": "code",
   "execution_count": 89,
   "metadata": {},
   "outputs": [],
   "source": [
    "p_piano1 = d.parts[0]\n",
    "p_piano2 = d.parts[1]"
   ]
  },
  {
   "cell_type": "code",
   "execution_count": 90,
   "metadata": {},
   "outputs": [
    {
     "name": "stdout",
     "output_type": "stream",
     "text": [
      "The piano 1 part contains 199 notes.\n",
      "The piano 2 part contains 123 notes.\n",
      "322\n"
     ]
    }
   ],
   "source": [
    "nn_piano1 = p_piano1.flat.notes.stream()\n",
    "nn_piano2 = p_piano2.flat.notes.stream()\n",
    "\n",
    "print('The piano 1 part contains {} notes.'.format(len(nn_piano1)))\n",
    "print('The piano 2 part contains {} notes.'.format(len(nn_piano2)))\n",
    "total_notes_Dance = len(nn_piano1) + len(nn_piano2)\n",
    "print(total_notes_Dance)"
   ]
  },
  {
   "cell_type": "code",
   "execution_count": 91,
   "metadata": {},
   "outputs": [],
   "source": [
    "def aug_sec(instrument_name, part, flag = 0):\n",
    "    aug_second = 0 \n",
    "    for n in range(len(part)-1):\n",
    "        n1 = part[n]\n",
    "        n2 = part[n+1]\n",
    "        if n1.isNote and n2.isNote:\n",
    "            intvl = interval.Interval(n1, n2)\n",
    "            if intvl.name == \"A2\":\n",
    "                aug_second +=1           \n",
    "    \n",
    "    if flag == 1:\n",
    "    \n",
    "        print(\"The {} part contains {} augumented seconds.\".format(instrument_name, aug_second))\n",
    "        total = len(part)\n",
    "        percentage = aug_second / (total - 1) * 100\n",
    "        print(\"- That is {:.2f}% of the total number of intervals.\".format(percentage))\n",
    "        \n",
    "    return aug_second"
   ]
  },
  {
   "cell_type": "code",
   "execution_count": 92,
   "metadata": {},
   "outputs": [
    {
     "name": "stdout",
     "output_type": "stream",
     "text": [
      "The piano 1 part contains 24 augumented seconds.\n",
      "- That is 12.12% of the total number of intervals.\n",
      "The piano 2 part contains 1 augumented seconds.\n",
      "- That is 0.82% of the total number of intervals.\n"
     ]
    },
    {
     "data": {
      "text/plain": [
       "1"
      ]
     },
     "execution_count": 92,
     "metadata": {},
     "output_type": "execute_result"
    }
   ],
   "source": [
    "aug_sec(\"piano 1\", nn_piano1,1)\n",
    "aug_sec(\"piano 2\", nn_piano2,1)"
   ]
  },
  {
   "cell_type": "code",
   "execution_count": 93,
   "metadata": {},
   "outputs": [],
   "source": [
    "def percentage_calculator(par1, par2):\n",
    "    percentage_total_intervals = par1 / (par2 - 1) * 100\n",
    "    print(\"That is {:.2f}% of the total number of intervals in the score.\".format(percentage_total_intervals))"
   ]
  },
  {
   "cell_type": "code",
   "execution_count": 94,
   "metadata": {},
   "outputs": [
    {
     "name": "stdout",
     "output_type": "stream",
     "text": [
      "25\n",
      "That is 7.79% of the total number of intervals in the score.\n"
     ]
    }
   ],
   "source": [
    "total_total_1 = aug_sec(\"piano 1\", nn_piano1) + aug_sec(\"piano 2\", nn_piano2)\n",
    "print(total_total_1)\n",
    "percentage_calculator(total_total_1, total_notes_Dance)"
   ]
  },
  {
   "cell_type": "code",
   "execution_count": 95,
   "metadata": {},
   "outputs": [],
   "source": [
    "m = converter.parse(\"Balkan_Mixture.musicxml\")"
   ]
  },
  {
   "cell_type": "code",
   "execution_count": 96,
   "metadata": {},
   "outputs": [],
   "source": [
    "p_violin = m.parts[0]\n",
    "p_viola = m.parts[1]\n",
    "p_cello = m.parts[2]"
   ]
  },
  {
   "cell_type": "code",
   "execution_count": 97,
   "metadata": {},
   "outputs": [
    {
     "name": "stdout",
     "output_type": "stream",
     "text": [
      "The violin part contains 329 notes.\n",
      "The viola part contains 264 notes.\n",
      "The cello part contains 567 notes.\n",
      "1160\n"
     ]
    }
   ],
   "source": [
    "nn_violin = p_violin.flat.notes.stream()\n",
    "nn_viola = p_viola.flat.notes.stream()\n",
    "nn_cello = p_cello.flat.notes.stream()\n",
    "\n",
    "print('The violin part contains {} notes.'.format(len(nn_violin)))\n",
    "print('The viola part contains {} notes.'.format(len(nn_viola)))\n",
    "print('The cello part contains {} notes.'.format(len(nn_cello)))\n",
    "total_notes_Mixture = len(nn_violin) + len(nn_viola) + len(nn_cello)\n",
    "print(total_notes_Mixture)"
   ]
  },
  {
   "cell_type": "code",
   "execution_count": 98,
   "metadata": {},
   "outputs": [
    {
     "name": "stdout",
     "output_type": "stream",
     "text": [
      "The violin part contains 47 augumented seconds.\n",
      "- That is 14.33% of the total number of intervals.\n",
      "The viola part contains 13 augumented seconds.\n",
      "- That is 4.94% of the total number of intervals.\n",
      "The cello part contains 0 augumented seconds.\n",
      "- That is 0.00% of the total number of intervals.\n"
     ]
    },
    {
     "data": {
      "text/plain": [
       "0"
      ]
     },
     "execution_count": 98,
     "metadata": {},
     "output_type": "execute_result"
    }
   ],
   "source": [
    "aug_sec(\"violin\",nn_violin,1)\n",
    "aug_sec(\"viola\", nn_viola,1)\n",
    "aug_sec(\"cello\", nn_cello,1)"
   ]
  },
  {
   "cell_type": "code",
   "execution_count": 99,
   "metadata": {},
   "outputs": [
    {
     "name": "stdout",
     "output_type": "stream",
     "text": [
      "60\n",
      "That is 5.18% of the total number of intervals in the score.\n"
     ]
    }
   ],
   "source": [
    "total_total_2 = aug_sec(\"violin\",nn_violin) + aug_sec(\"viola\", nn_viola) + aug_sec(\"cello\", nn_cello)\n",
    "print(total_total_2)\n",
    "percentage_calculator(total_total_2, total_notes_Mixture)"
   ]
  },
  {
   "cell_type": "code",
   "execution_count": 100,
   "metadata": {},
   "outputs": [],
   "source": [
    "t = converter.parse(\"Balkan_Trio.musicxml\")"
   ]
  },
  {
   "cell_type": "code",
   "execution_count": 101,
   "metadata": {},
   "outputs": [],
   "source": [
    "p_clar = t.parts[0]\n",
    "p_viol = t.parts[1]\n",
    "p_piano1 = t.parts[2]\n",
    "p_piano2 = t.parts[3]"
   ]
  },
  {
   "cell_type": "code",
   "execution_count": 102,
   "metadata": {},
   "outputs": [
    {
     "name": "stdout",
     "output_type": "stream",
     "text": [
      "The clarinet part contains 74 notes.\n",
      "The viola part contains 49 notes.\n",
      "The piano 1 part contains 111 notes.\n",
      "The piano 2 part contains 87 notes.\n",
      "321\n"
     ]
    }
   ],
   "source": [
    "nn_clar = p_clar.flat.notes.stream()\n",
    "nn_viol = p_viol.flat.notes.stream()\n",
    "nn_piano1 = p_piano1.flat.notes.stream()\n",
    "nn_piano2 = p_piano2.flat.notes.stream()\n",
    "\n",
    "print('The clarinet part contains {} notes.'.format(len(nn_clar)))\n",
    "print('The viola part contains {} notes.'.format(len(nn_viol)))\n",
    "print('The piano 1 part contains {} notes.'.format(len(nn_piano1)))\n",
    "print('The piano 2 part contains {} notes.'.format(len(nn_piano2)))\n",
    "total_notes_Trio = len(nn_clar) + len(nn_viol) + len(nn_piano1) + len(nn_piano2)\n",
    "print(total_notes_Trio)"
   ]
  },
  {
   "cell_type": "code",
   "execution_count": 103,
   "metadata": {},
   "outputs": [
    {
     "name": "stdout",
     "output_type": "stream",
     "text": [
      "The clarinet part contains 2 augumented seconds.\n",
      "- That is 2.74% of the total number of intervals.\n",
      "The viola part contains 2 augumented seconds.\n",
      "- That is 4.17% of the total number of intervals.\n",
      "The piano 1 part contains 9 augumented seconds.\n",
      "- That is 8.18% of the total number of intervals.\n",
      "The piano 2 part contains 0 augumented seconds.\n",
      "- That is 0.00% of the total number of intervals.\n"
     ]
    },
    {
     "data": {
      "text/plain": [
       "0"
      ]
     },
     "execution_count": 103,
     "metadata": {},
     "output_type": "execute_result"
    }
   ],
   "source": [
    "aug_sec(\"clarinet\", nn_clar,1)\n",
    "aug_sec(\"viola\", nn_viol,1)\n",
    "aug_sec(\"piano 1\", nn_piano1,1)\n",
    "aug_sec(\"piano 2\", nn_piano2,1)"
   ]
  },
  {
   "cell_type": "code",
   "execution_count": 104,
   "metadata": {},
   "outputs": [
    {
     "name": "stdout",
     "output_type": "stream",
     "text": [
      "13\n",
      "That is 4.06% of the total number of intervals in the score.\n"
     ]
    }
   ],
   "source": [
    "total_total_3 = aug_sec(\"clarinet\", nn_clar) + aug_sec(\"viola\", nn_viol) + aug_sec(\"piano 1\", nn_piano1) + aug_sec(\"piano 2\", nn_piano2)\n",
    "print(total_total_3)\n",
    "percentage_calculator(total_total_3, total_notes_Trio)"
   ]
  },
  {
   "cell_type": "code",
   "execution_count": 105,
   "metadata": {},
   "outputs": [],
   "source": [
    "mo = converter.parse(\"Memoires_of_Mostar.musicxml\")"
   ]
  },
  {
   "cell_type": "code",
   "execution_count": 106,
   "metadata": {},
   "outputs": [
    {
     "name": "stdout",
     "output_type": "stream",
     "text": [
      "The melody has 182 notes.\n",
      "182\n"
     ]
    }
   ],
   "source": [
    "nn_melody = mo.flat.notes.stream()\n",
    "\n",
    "print(\"The melody has {} notes.\".format(len(nn_melody)))\n",
    "total_notes_Mostar = len(nn_melody)\n",
    "print(total_notes_Mostar)"
   ]
  },
  {
   "cell_type": "code",
   "execution_count": 107,
   "metadata": {},
   "outputs": [
    {
     "name": "stdout",
     "output_type": "stream",
     "text": [
      "The melody part contains 11 augumented seconds.\n",
      "- That is 6.08% of the total number of intervals.\n"
     ]
    },
    {
     "data": {
      "text/plain": [
       "11"
      ]
     },
     "execution_count": 107,
     "metadata": {},
     "output_type": "execute_result"
    }
   ],
   "source": [
    "aug_sec(\"melody\", nn_melody,1)"
   ]
  },
  {
   "cell_type": "code",
   "execution_count": 108,
   "metadata": {},
   "outputs": [
    {
     "name": "stdout",
     "output_type": "stream",
     "text": [
      "11\n",
      "That is 6.08% of the total number of intervals in the score.\n"
     ]
    }
   ],
   "source": [
    "total_total_4 = aug_sec(\"melody\", nn_melody)\n",
    "print(total_total_4)\n",
    "percentage_calculator(total_total_4, total_notes_Mostar)"
   ]
  },
  {
   "cell_type": "code",
   "execution_count": 109,
   "metadata": {},
   "outputs": [],
   "source": [
    "mis = converter.parse(\"Misrlu.musicxml\")"
   ]
  },
  {
   "cell_type": "code",
   "execution_count": 110,
   "metadata": {},
   "outputs": [
    {
     "name": "stdout",
     "output_type": "stream",
     "text": [
      "The melody has 205 notes.\n",
      "205\n"
     ]
    }
   ],
   "source": [
    "nn_melody = mis.flat.notes.stream()\n",
    "\n",
    "print(\"The melody has {} notes.\".format(len(nn_melody)))\n",
    "total_notes_Misrlu = len(nn_melody)\n",
    "print(total_notes_Misrlu)"
   ]
  },
  {
   "cell_type": "code",
   "execution_count": 111,
   "metadata": {},
   "outputs": [
    {
     "name": "stdout",
     "output_type": "stream",
     "text": [
      "The melody part contains 11 augumented seconds.\n",
      "- That is 5.39% of the total number of intervals.\n"
     ]
    },
    {
     "data": {
      "text/plain": [
       "11"
      ]
     },
     "execution_count": 111,
     "metadata": {},
     "output_type": "execute_result"
    }
   ],
   "source": [
    "aug_sec(\"melody\", nn_melody,1)"
   ]
  },
  {
   "cell_type": "code",
   "execution_count": 112,
   "metadata": {},
   "outputs": [
    {
     "name": "stdout",
     "output_type": "stream",
     "text": [
      "11\n",
      "That is 5.39% of the total number of intervals in the score.\n"
     ]
    }
   ],
   "source": [
    "total_total_5 = aug_sec(\"melody\", nn_melody)\n",
    "print(total_total_5)\n",
    "percentage_calculator(total_total_5, total_notes_Misrlu)"
   ]
  },
  {
   "cell_type": "code",
   "execution_count": 113,
   "metadata": {},
   "outputs": [],
   "source": [
    "n = converter.parse(\"Nesanica.x.musicxml\")"
   ]
  },
  {
   "cell_type": "code",
   "execution_count": 114,
   "metadata": {},
   "outputs": [],
   "source": [
    "p_violin = n.parts[0]\n",
    "p_tenor = n.parts[1]\n",
    "p_acc1 = n.parts[2]\n",
    "p_acc2 = n.parts[3]\n",
    "p_trumpet1 = n.parts[4]\n",
    "p_trumpet2 = n.parts[5]\n",
    "p_trombone = n.parts[6]\n",
    "p_tuba = n.parts[7]"
   ]
  },
  {
   "cell_type": "code",
   "execution_count": 115,
   "metadata": {},
   "outputs": [
    {
     "name": "stdout",
     "output_type": "stream",
     "text": [
      "The violin part contains 144 notes.\n",
      "The tenor part contains 131 notes.\n",
      "The accordion 1 part contains 150 notes.\n",
      "The accordion 2 part contains 184 notes.\n",
      "The trumpet 1 part contains 176 notes.\n",
      "The trumpet 2 part contains 171 notes.\n",
      "The trombone part contains 154 notes.\n",
      "The tuba part contains 142 notes.\n",
      "1252\n"
     ]
    }
   ],
   "source": [
    "nn_viol = p_violin.flat.notes.stream()\n",
    "nn_tenor = p_tenor.flat.notes.stream()\n",
    "nn_acc1 = p_acc1.flat.notes.stream()\n",
    "nn_acc2 = p_acc2.flat.notes.stream()\n",
    "nn_trumpet1 = p_trumpet1.flat.notes.stream()\n",
    "nn_trumpet2 = p_trumpet2.flat.notes.stream()\n",
    "nn_trombone = p_trombone.flat.notes.stream()\n",
    "nn_tuba = p_tuba.flat.notes.stream()\n",
    "\n",
    "print('The violin part contains {} notes.'.format(len(nn_viol)))\n",
    "print('The tenor part contains {} notes.'.format(len(nn_tenor)))\n",
    "print('The accordion 1 part contains {} notes.'.format(len(nn_acc1)))\n",
    "print('The accordion 2 part contains {} notes.'.format(len(nn_acc2)))\n",
    "print('The trumpet 1 part contains {} notes.'.format(len(nn_trumpet1)))\n",
    "print('The trumpet 2 part contains {} notes.'.format(len(nn_trumpet2)))\n",
    "print('The trombone part contains {} notes.'.format(len(nn_trombone)))\n",
    "print('The tuba part contains {} notes.'.format(len(nn_tuba)))\n",
    "total_notes_Nesanica = len(nn_viol) + len(nn_tenor) + len(nn_acc1) + len(nn_acc2) + len(nn_trumpet1) + len(nn_trumpet2) + len(nn_trombone) + len(nn_tuba)\n",
    "print(total_notes_Nesanica)"
   ]
  },
  {
   "cell_type": "code",
   "execution_count": 116,
   "metadata": {},
   "outputs": [
    {
     "name": "stdout",
     "output_type": "stream",
     "text": [
      "The violin part contains 4 augumented seconds.\n",
      "- That is 2.80% of the total number of intervals.\n",
      "The tenor part contains 5 augumented seconds.\n",
      "- That is 3.85% of the total number of intervals.\n",
      "The accordion 1 part contains 0 augumented seconds.\n",
      "- That is 0.00% of the total number of intervals.\n",
      "The accordion 2 part contains 0 augumented seconds.\n",
      "- That is 0.00% of the total number of intervals.\n",
      "The trumpet 1 part contains 6 augumented seconds.\n",
      "- That is 3.43% of the total number of intervals.\n",
      "The trumpet 2 part contains 7 augumented seconds.\n",
      "- That is 4.12% of the total number of intervals.\n",
      "The trombone part contains 3 augumented seconds.\n",
      "- That is 1.96% of the total number of intervals.\n",
      "The tuba part contains 3 augumented seconds.\n",
      "- That is 2.13% of the total number of intervals.\n"
     ]
    },
    {
     "data": {
      "text/plain": [
       "3"
      ]
     },
     "execution_count": 116,
     "metadata": {},
     "output_type": "execute_result"
    }
   ],
   "source": [
    "aug_sec(\"violin\", nn_viol,1)\n",
    "aug_sec(\"tenor\", nn_tenor,1)\n",
    "aug_sec(\"accordion 1\", nn_acc1,1)\n",
    "aug_sec(\"accordion 2\", nn_acc2,1)\n",
    "aug_sec(\"trumpet 1\", nn_trumpet1,1)\n",
    "aug_sec(\"trumpet 2\", nn_trumpet2,1)\n",
    "aug_sec(\"trombone\", nn_trombone,1)\n",
    "aug_sec(\"tuba\", nn_tuba,1)"
   ]
  },
  {
   "cell_type": "code",
   "execution_count": 117,
   "metadata": {},
   "outputs": [
    {
     "name": "stdout",
     "output_type": "stream",
     "text": [
      "28\n",
      "That is 2.24% of the total number of intervals in the score.\n"
     ]
    }
   ],
   "source": [
    "total_total_6 = aug_sec(\"violin\", nn_viol) + aug_sec(\"tenor\", nn_tenor) + aug_sec(\"accordion 1\", nn_acc1) + aug_sec(\"accordion 2\", nn_acc2) + aug_sec(\"trumpet 1\", nn_trumpet1) + aug_sec(\"trumpet 2\", nn_trumpet2) + aug_sec(\"trombone\", nn_trombone) + aug_sec(\"tuba\", nn_tuba)\n",
    "print(total_total_6)\n",
    "percentage_calculator(total_total_6, total_notes_Nesanica)"
   ]
  },
  {
   "cell_type": "code",
   "execution_count": 118,
   "metadata": {},
   "outputs": [],
   "source": [
    "cc = n.chordify() # Reduce the score into chords\n",
    "cc.show()"
   ]
  },
  {
   "cell_type": "code",
   "execution_count": 119,
   "metadata": {},
   "outputs": [],
   "source": [
    "co1 = converter.parse(\"Collection_1.musicxml\")"
   ]
  },
  {
   "cell_type": "code",
   "execution_count": 120,
   "metadata": {},
   "outputs": [],
   "source": [
    "p_flute = co1.parts[0]\n",
    "p_acc1 = co1.parts[1]\n",
    "p_acc2 = co1.parts[2]\n",
    "p_cello = co1.parts[3]\n",
    "p_piano1 = co1.parts[4]\n",
    "p_piano2 = co1.parts[5]\n",
    "p_bass = co1.parts[6]"
   ]
  },
  {
   "cell_type": "code",
   "execution_count": 121,
   "metadata": {},
   "outputs": [
    {
     "name": "stdout",
     "output_type": "stream",
     "text": [
      "The flute part contains 1012 notes.\n",
      "The accordion 1 part contains 3030 notes.\n",
      "The accordion 2 part contains 1533 notes.\n",
      "The cello part contains 1898 notes.\n",
      "The piano 1 part contains 2274 notes.\n",
      "The piano 2 part contains 5 notes.\n",
      "The bass part contains 1144 notes.\n",
      "10896\n"
     ]
    }
   ],
   "source": [
    "nn_flute = p_flute.flat.notes.stream()\n",
    "nn_acc1 = p_acc1.flat.notes.stream()\n",
    "nn_acc2 = p_acc2.flat.notes.stream()\n",
    "nn_cello = p_cello.flat.notes.stream()\n",
    "nn_piano1 = p_piano1.flat.notes.stream()\n",
    "nn_piano2 = p_piano2.flat.notes.stream()\n",
    "nn_bass = p_bass.flat.notes.stream()\n",
    "\n",
    "print('The flute part contains {} notes.'.format(len(nn_flute)))\n",
    "print('The accordion 1 part contains {} notes.'.format(len(nn_acc1)))\n",
    "print('The accordion 2 part contains {} notes.'.format(len(nn_acc2)))\n",
    "print('The cello part contains {} notes.'.format(len(nn_cello)))\n",
    "print('The piano 1 part contains {} notes.'.format(len(nn_piano1)))\n",
    "print('The piano 2 part contains {} notes.'.format(len(nn_piano2)))\n",
    "print('The bass part contains {} notes.'.format(len(nn_bass)))\n",
    "total_notes_Co1 = len(nn_flute) + len(nn_acc1) + len(nn_acc2) + len(nn_cello) + len(nn_piano1) + len(nn_piano2) + len(nn_bass)\n",
    "print(total_notes_Co1)"
   ]
  },
  {
   "cell_type": "code",
   "execution_count": 122,
   "metadata": {},
   "outputs": [
    {
     "name": "stdout",
     "output_type": "stream",
     "text": [
      "The flute part contains 19 augumented seconds.\n",
      "- That is 1.88% of the total number of intervals.\n",
      "The accordion 1 part contains 54 augumented seconds.\n",
      "- That is 1.78% of the total number of intervals.\n",
      "The accordion 2 part contains 0 augumented seconds.\n",
      "- That is 0.00% of the total number of intervals.\n",
      "The cello part contains 32 augumented seconds.\n",
      "- That is 1.69% of the total number of intervals.\n",
      "The piano 1 part contains 30 augumented seconds.\n",
      "- That is 1.32% of the total number of intervals.\n",
      "The piano 2 part contains 0 augumented seconds.\n",
      "- That is 0.00% of the total number of intervals.\n",
      "The bass part contains 1 augumented seconds.\n",
      "- That is 0.09% of the total number of intervals.\n"
     ]
    },
    {
     "data": {
      "text/plain": [
       "1"
      ]
     },
     "execution_count": 122,
     "metadata": {},
     "output_type": "execute_result"
    }
   ],
   "source": [
    "aug_sec(\"flute\", nn_flute,1)\n",
    "aug_sec(\"accordion 1\", nn_acc1,1)\n",
    "aug_sec(\"accordion 2\", nn_acc2,1)\n",
    "aug_sec(\"cello\", nn_cello,1)\n",
    "aug_sec(\"piano 1\", nn_piano1,1)\n",
    "aug_sec(\"piano 2\", nn_piano2,1)\n",
    "aug_sec(\"bass\", nn_bass,1)"
   ]
  },
  {
   "cell_type": "code",
   "execution_count": 123,
   "metadata": {},
   "outputs": [
    {
     "name": "stdout",
     "output_type": "stream",
     "text": [
      "136\n",
      "That is 1.25% of the total number of intervals in the score.\n"
     ]
    }
   ],
   "source": [
    "total_total_7 = aug_sec(\"flute\", nn_flute) + aug_sec(\"accordion 1\", nn_acc1) + aug_sec(\"accordion 2\", nn_acc2) + aug_sec(\"cello\", nn_cello) + aug_sec(\"piano 1\", nn_piano1) + aug_sec(\"piano 2\", nn_piano2) + aug_sec(\"bass\", nn_bass)\n",
    "print(total_total_7)\n",
    "percentage_calculator(total_total_7, total_notes_Co1)"
   ]
  },
  {
   "cell_type": "code",
   "execution_count": 124,
   "metadata": {},
   "outputs": [],
   "source": [
    "co2 = converter.parse(\"Collection_2.musicxml\")"
   ]
  },
  {
   "cell_type": "code",
   "execution_count": 125,
   "metadata": {},
   "outputs": [],
   "source": [
    "p_flute = co2.parts[0]\n",
    "p_acc1 = co2.parts[1]\n",
    "p_acc2 = co2.parts[2]\n",
    "p_cello = co2.parts[3]\n",
    "p_piano1 = co2.parts[4]\n",
    "p_piano2 = co2.parts[5]\n",
    "p_bass = co2.parts[6]"
   ]
  },
  {
   "cell_type": "code",
   "execution_count": 126,
   "metadata": {},
   "outputs": [
    {
     "name": "stdout",
     "output_type": "stream",
     "text": [
      "The flute part contains 1414 notes.\n",
      "The accordion 1 part contains 3754 notes.\n",
      "The accordion 2 part contains 873 notes.\n",
      "The cello part contains 2072 notes.\n",
      "The piano 1 part contains 2931 notes.\n",
      "The piano 2 part contains 2 notes.\n",
      "The bass part contains 1268 notes.\n",
      "12314\n"
     ]
    }
   ],
   "source": [
    "nn_flute = p_flute.flat.notes.stream()\n",
    "nn_acc1 = p_acc1.flat.notes.stream()\n",
    "nn_acc2 = p_acc2.flat.notes.stream()\n",
    "nn_cello = p_cello.flat.notes.stream()\n",
    "nn_piano1 = p_piano1.flat.notes.stream()\n",
    "nn_piano2 = p_piano2.flat.notes.stream()\n",
    "nn_bass = p_bass.flat.notes.stream()\n",
    "\n",
    "print('The flute part contains {} notes.'.format(len(nn_flute)))\n",
    "print('The accordion 1 part contains {} notes.'.format(len(nn_acc1)))\n",
    "print('The accordion 2 part contains {} notes.'.format(len(nn_acc2)))\n",
    "print('The cello part contains {} notes.'.format(len(nn_cello)))\n",
    "print('The piano 1 part contains {} notes.'.format(len(nn_piano1)))\n",
    "print('The piano 2 part contains {} notes.'.format(len(nn_piano2)))\n",
    "print('The bass part contains {} notes.'.format(len(nn_bass)))\n",
    "total_notes_Co2 = len(nn_flute) + len(nn_acc1) + len(nn_acc2) + len(nn_cello) + len(nn_piano1) + len(nn_piano2) + len(nn_bass)\n",
    "print(total_notes_Co2)"
   ]
  },
  {
   "cell_type": "code",
   "execution_count": 127,
   "metadata": {},
   "outputs": [
    {
     "name": "stdout",
     "output_type": "stream",
     "text": [
      "The flute part contains 31 augumented seconds.\n",
      "- That is 2.19% of the total number of intervals.\n",
      "The accordion 1 part contains 79 augumented seconds.\n",
      "- That is 2.10% of the total number of intervals.\n",
      "The accordion 2 part contains 0 augumented seconds.\n",
      "- That is 0.00% of the total number of intervals.\n",
      "The cello part contains 53 augumented seconds.\n",
      "- That is 2.56% of the total number of intervals.\n",
      "The piano 1 part contains 99 augumented seconds.\n",
      "- That is 3.38% of the total number of intervals.\n",
      "The piano 2 part contains 0 augumented seconds.\n",
      "- That is 0.00% of the total number of intervals.\n",
      "The bass part contains 13 augumented seconds.\n",
      "- That is 1.03% of the total number of intervals.\n"
     ]
    },
    {
     "data": {
      "text/plain": [
       "13"
      ]
     },
     "execution_count": 127,
     "metadata": {},
     "output_type": "execute_result"
    }
   ],
   "source": [
    "aug_sec(\"flute\", nn_flute,1)\n",
    "aug_sec(\"accordion 1\", nn_acc1,1)\n",
    "aug_sec(\"accordion 2\", nn_acc2,1)\n",
    "aug_sec(\"cello\", nn_cello,1)\n",
    "aug_sec(\"piano 1\", nn_piano1,1)\n",
    "aug_sec(\"piano 2\", nn_piano2,1)\n",
    "aug_sec(\"bass\", nn_bass,1)"
   ]
  },
  {
   "cell_type": "code",
   "execution_count": 128,
   "metadata": {},
   "outputs": [
    {
     "name": "stdout",
     "output_type": "stream",
     "text": [
      "275\n",
      "That is 2.23% of the total number of intervals in the score.\n"
     ]
    }
   ],
   "source": [
    "total_total_8 = aug_sec(\"flute\", nn_flute) + aug_sec(\"accordion 1\", nn_acc1) + aug_sec(\"accordion 2\", nn_acc2) + aug_sec(\"cello\", nn_cello) + aug_sec(\"piano 1\", nn_piano1) + aug_sec(\"piano 2\", nn_piano2) + aug_sec(\"bass\", nn_bass)\n",
    "print(total_total_8)\n",
    "percentage_calculator(total_total_8, total_notes_Co2)"
   ]
  },
  {
   "cell_type": "code",
   "execution_count": 129,
   "metadata": {},
   "outputs": [],
   "source": [
    "import matplotlib.pyplot as plt"
   ]
  },
  {
   "cell_type": "code",
   "execution_count": 130,
   "metadata": {
    "scrolled": true
   },
   "outputs": [
    {
     "data": {
      "text/plain": [
       "Text(0.5, 0.98, 'Augmented Seconds')"
      ]
     },
     "execution_count": 130,
     "metadata": {},
     "output_type": "execute_result"
    },
    {
     "data": {
      "image/png": "[encoded data removed]",
      "text/plain": [
       "<Figure size 1008x288 with 1 Axes>"
      ]
     },
     "metadata": {
      "image/png": {
       "height": 291,
       "width": 835
      },
      "needs_background": "light"
     },
     "output_type": "display_data"
    }
   ],
   "source": [
    "data = {\"Co1\" : 1.25, \"Co2\" : 2.23,\"Nesanica\" : 2.24,\"Balkan_Trio\" : 4.06,\"Balkan_Mixture\": 5.18,\"Misrlou\" : 5.39, \"Memoires_of_Mostar\" : 6.08,\"Balkan_Dance\" : 7.79}\n",
    "names = list(data.keys())\n",
    "values = list(data.values())\n",
    "\n",
    "fig, axs = plt.subplots(figsize=(14, 4))\n",
    "axs.bar(names, values)\n",
    "axs.bar(names, values, color=\"grey\")\n",
    "plt.ylabel(\"Percentage of A2\")\n",
    "plt.ylim(top=100)\n",
    "plt.xlabel(\"Scores\")\n",
    "fig.suptitle('Augmented Seconds', size = 14)"
   ]
  },
  {
   "cell_type": "code",
   "execution_count": null,
   "metadata": {},
   "outputs": [],
   "source": []
  }
 ],
 "metadata": {
  "kernelspec": {
   "display_name": "Python 3",
   "language": "python",
   "name": "python3"
  },
  "language_info": {
   "codemirror_mode": {
    "name": "ipython",
    "version": 3
   },
   "file_extension": ".py",
   "mimetype": "text/x-python",
   "name": "python",
   "nbconvert_exporter": "python",
   "pygments_lexer": "ipython3",
   "version": "3.8.1"
  }
 },
 "nbformat": 4,
 "nbformat_minor": 4
}
